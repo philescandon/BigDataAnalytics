{
  "nbformat": 4,
  "nbformat_minor": 0,
  "metadata": {
    "colab": {
      "name": "Spark-Example-09a-treeAggregate.ipynb",
      "provenance": []
    },
    "kernelspec": {
      "name": "python3",
      "display_name": "Python 3"
    },
    "language_info": {
      "name": "python"
    }
  },
  "cells": [
    {
      "cell_type": "markdown",
      "source": [
        "#treeAggregate\n",
        "Create a treeAggregate function that will computer maximum and minimum on an RDD in one pass."
      ],
      "metadata": {
        "id": "64k1f686TlpX"
      }
    },
    {
      "cell_type": "code",
      "source": [
        "! pip install pyspark"
      ],
      "metadata": {
        "colab": {
          "base_uri": "https://localhost:8080/"
        },
        "id": "UaWKx1tU5z9o",
        "outputId": "b0a1d839-88fb-4945-c598-76fa884bb513"
      },
      "execution_count": 11,
      "outputs": [
        {
          "output_type": "stream",
          "name": "stdout",
          "text": [
            "Requirement already satisfied: pyspark in /usr/local/lib/python3.7/dist-packages (3.2.1)\n",
            "Requirement already satisfied: py4j==0.10.9.3 in /usr/local/lib/python3.7/dist-packages (from pyspark) (0.10.9.3)\n"
          ]
        }
      ]
    },
    {
      "cell_type": "code",
      "execution_count": 14,
      "metadata": {
        "id": "24L8SpQe5aEY"
      },
      "outputs": [],
      "source": [
        "from pyspark import SparkContext\n",
        "from pyspark.sql import SparkSession\n",
        "sc = SparkContext(\"local\")\n",
        "spark = SparkSession.builder.getOrCreate()"
      ]
    },
    {
      "cell_type": "code",
      "source": [
        "sc.stop()"
      ],
      "metadata": {
        "id": "R0See01hNaeG"
      },
      "execution_count": 13,
      "outputs": []
    },
    {
      "cell_type": "code",
      "source": [
        "path=\"\"\n",
        "testFile= path + \"taxi-data-sorted-verysmall.csv\"\n",
        "df = spark.read.format('csv').options(header='false', inferSchema='true',  sep =\",\").load(testFile)\n",
        "df.show(5,truncate=True)"
      ],
      "metadata": {
        "colab": {
          "base_uri": "https://localhost:8080/"
        },
        "id": "abZiG_jJ5wHV",
        "outputId": "51e87322-b53d-4c89-9b8b-6ada1b6c899b"
      },
      "execution_count": 15,
      "outputs": [
        {
          "output_type": "stream",
          "name": "stdout",
          "text": [
            "+--------------------+--------------------+-------------------+-------------------+---+----+----------+---------+----------+---------+----+----+----+----+----+----+----+\n",
            "|                 _c0|                 _c1|                _c2|                _c3|_c4| _c5|       _c6|      _c7|       _c8|      _c9|_c10|_c11|_c12|_c13|_c14|_c15|_c16|\n",
            "+--------------------+--------------------+-------------------+-------------------+---+----+----------+---------+----------+---------+----+----+----+----+----+----+----+\n",
            "|07290D3599E7A0D62...|E7750A37CAB07D0DF...|2013-01-01 00:00:00|2013-01-01 00:02:00|120|0.44|-73.956528|40.716976| -73.96244|40.715008| CSH| 3.5| 0.5| 0.5| 0.0| 0.0| 4.5|\n",
            "|22D70BF00EEB0ADC8...|3FF2709163DE7036F...|2013-01-01 00:02:00|2013-01-01 00:02:00|  0| 0.0|       0.0|      0.0|       0.0|      0.0| CSH|27.0| 0.0| 0.5| 0.0| 0.0|27.5|\n",
            "|0EC22AAF491A8BD91...|778C92B26AE78A9EB...|2013-01-01 00:01:00|2013-01-01 00:03:00|120|0.71|-73.973145|40.752827|-73.965897|40.760445| CSH| 4.0| 0.5| 0.5| 0.0| 0.0| 5.0|\n",
            "|1390FB380189DF6BB...|BE317B986700F63C4...|2013-01-01 00:01:00|2013-01-01 00:03:00|120|0.48|-74.004173|40.720947|-74.003838|40.726189| CSH| 4.0| 0.5| 0.5| 0.0| 0.0| 5.0|\n",
            "|3B4129883A1D05BE8...|7077F9FD5AD649AEA...|2013-01-01 00:01:00|2013-01-01 00:03:00|120|0.61|-73.987373|40.724861|-73.983772|40.730995| CRD| 4.0| 0.5| 0.5| 0.0| 0.0| 5.0|\n",
            "+--------------------+--------------------+-------------------+-------------------+---+----+----------+---------+----------+---------+----+----+----+----+----+----+----+\n",
            "only showing top 5 rows\n",
            "\n"
          ]
        }
      ]
    },
    {
      "cell_type": "code",
      "source": [
        "df.printSchema()"
      ],
      "metadata": {
        "colab": {
          "base_uri": "https://localhost:8080/"
        },
        "id": "8MufUYlGN0Sx",
        "outputId": "e0502b69-b417-4eb7-f115-b6efcc965ef9"
      },
      "execution_count": 17,
      "outputs": [
        {
          "output_type": "stream",
          "name": "stdout",
          "text": [
            "root\n",
            " |-- _c0: string (nullable = true)\n",
            " |-- _c1: string (nullable = true)\n",
            " |-- _c2: string (nullable = true)\n",
            " |-- _c3: string (nullable = true)\n",
            " |-- _c4: integer (nullable = true)\n",
            " |-- _c5: double (nullable = true)\n",
            " |-- _c6: double (nullable = true)\n",
            " |-- _c7: double (nullable = true)\n",
            " |-- _c8: double (nullable = true)\n",
            " |-- _c9: double (nullable = true)\n",
            " |-- _c10: string (nullable = true)\n",
            " |-- _c11: double (nullable = true)\n",
            " |-- _c12: double (nullable = true)\n",
            " |-- _c13: double (nullable = true)\n",
            " |-- _c14: double (nullable = true)\n",
            " |-- _c15: double (nullable = true)\n",
            " |-- _c16: double (nullable = true)\n",
            "\n"
          ]
        }
      ]
    },
    {
      "cell_type": "code",
      "source": [
        "from pyspark.sql.functions import col, substring\n",
        "# Note: Please note that the position is not zero based, but 1 based index.\n",
        "# Create a new columns wiht the year, month, day, hour and minute of the taxi trip\n",
        "df = df.withColumn('year', substring('_c2', 1,4))\\\n",
        "    .withColumn('month', substring('_c2', 6,2))\\\n",
        "    .withColumn('day', substring('_c2', 9,2))\\\n",
        "    .withColumn('hour', substring('_c2', 12,2))\\\n",
        "    .withColumn('minute', substring('_c2', 15,2))\n",
        "df.show(3)"
      ],
      "metadata": {
        "colab": {
          "base_uri": "https://localhost:8080/"
        },
        "id": "6zevLIm75wKA",
        "outputId": "4342cef2-3d96-4d1b-a0bc-a61b02f7e8a8"
      },
      "execution_count": 30,
      "outputs": [
        {
          "output_type": "stream",
          "name": "stdout",
          "text": [
            "+--------------------+--------------------+-------------------+-------------------+---+----+----------+---------+----------+---------+----+----+----+----+----+----+----+----+-----+---+----+---+------+\n",
            "|                 _c0|                 _c1|                _c2|                _c3|_c4| _c5|       _c6|      _c7|       _c8|      _c9|_c10|_c11|_c12|_c13|_c14|_c15|_c16|year|month|day|hour|min|minute|\n",
            "+--------------------+--------------------+-------------------+-------------------+---+----+----------+---------+----------+---------+----+----+----+----+----+----+----+----+-----+---+----+---+------+\n",
            "|07290D3599E7A0D62...|E7750A37CAB07D0DF...|2013-01-01 00:00:00|2013-01-01 00:02:00|120|0.44|-73.956528|40.716976| -73.96244|40.715008| CSH| 3.5| 0.5| 0.5| 0.0| 0.0| 4.5|2013|   01| 01|  00| 02|    00|\n",
            "|22D70BF00EEB0ADC8...|3FF2709163DE7036F...|2013-01-01 00:02:00|2013-01-01 00:02:00|  0| 0.0|       0.0|      0.0|       0.0|      0.0| CSH|27.0| 0.0| 0.5| 0.0| 0.0|27.5|2013|   01| 01|  00| 02|    02|\n",
            "|0EC22AAF491A8BD91...|778C92B26AE78A9EB...|2013-01-01 00:01:00|2013-01-01 00:03:00|120|0.71|-73.973145|40.752827|-73.965897|40.760445| CSH| 4.0| 0.5| 0.5| 0.0| 0.0| 5.0|2013|   01| 01|  00| 03|    01|\n",
            "+--------------------+--------------------+-------------------+-------------------+---+----+----------+---------+----------+---------+----+----+----+----+----+----+----+----+-----+---+----+---+------+\n",
            "only showing top 3 rows\n",
            "\n"
          ]
        }
      ]
    },
    {
      "cell_type": "code",
      "source": [
        "# Find the number of trips in a \n",
        "df.groupBy('minute').count().show()"
      ],
      "metadata": {
        "colab": {
          "base_uri": "https://localhost:8080/"
        },
        "id": "-jzBJTZGOUXf",
        "outputId": "eeb7b046-092b-48bc-df40-6d97656f0682"
      },
      "execution_count": 32,
      "outputs": [
        {
          "output_type": "stream",
          "name": "stdout",
          "text": [
            "+------+-----+\n",
            "|minute|count|\n",
            "+------+-----+\n",
            "|    07|  165|\n",
            "|    51|   44|\n",
            "|    15|  231|\n",
            "|    54|   10|\n",
            "|    11|  221|\n",
            "|    29|  267|\n",
            "|    42|  149|\n",
            "|    30|  247|\n",
            "|    34|  237|\n",
            "|    01|   45|\n",
            "|    22|  253|\n",
            "|    28|  293|\n",
            "|    16|  236|\n",
            "|    35|  226|\n",
            "|    52|   33|\n",
            "|    47|  113|\n",
            "|    43|  165|\n",
            "|    31|  243|\n",
            "|    18|  233|\n",
            "|    27|  277|\n",
            "+------+-----+\n",
            "only showing top 20 rows\n",
            "\n"
          ]
        }
      ]
    },
    {
      "cell_type": "code",
      "source": [
        "# convert to RDD\n",
        "r = df.groupBy('minute').count().rdd.map(tuple).cache()\n",
        "r.take(100)"
      ],
      "metadata": {
        "colab": {
          "base_uri": "https://localhost:8080/"
        },
        "id": "Dwn6mfE-5wMu",
        "outputId": "e695036f-3528-4c3f-a8ef-a6bc7dc07155"
      },
      "execution_count": 33,
      "outputs": [
        {
          "output_type": "execute_result",
          "data": {
            "text/plain": [
              "[('07', 165),\n",
              " ('51', 44),\n",
              " ('15', 231),\n",
              " ('54', 10),\n",
              " ('11', 221),\n",
              " ('29', 267),\n",
              " ('42', 149),\n",
              " ('30', 247),\n",
              " ('34', 237),\n",
              " ('01', 45),\n",
              " ('22', 253),\n",
              " ('28', 293),\n",
              " ('16', 236),\n",
              " ('35', 226),\n",
              " ('52', 33),\n",
              " ('47', 113),\n",
              " ('43', 165),\n",
              " ('31', 243),\n",
              " ('18', 233),\n",
              " ('27', 277),\n",
              " ('00', 43),\n",
              " ('17', 274),\n",
              " ('26', 274),\n",
              " ('09', 178),\n",
              " ('46', 128),\n",
              " ('05', 129),\n",
              " ('19', 258),\n",
              " ('23', 280),\n",
              " ('41', 195),\n",
              " ('55', 2),\n",
              " ('08', 175),\n",
              " ('03', 77),\n",
              " ('38', 229),\n",
              " ('40', 196),\n",
              " ('25', 256),\n",
              " ('02', 56),\n",
              " ('44', 156),\n",
              " ('53', 20),\n",
              " ('33', 267),\n",
              " ('06', 147),\n",
              " ('48', 110),\n",
              " ('24', 239),\n",
              " ('32', 229),\n",
              " ('20', 260),\n",
              " ('56', 1),\n",
              " ('36', 223),\n",
              " ('10', 202),\n",
              " ('37', 190),\n",
              " ('49', 70),\n",
              " ('39', 209),\n",
              " ('12', 223),\n",
              " ('04', 89),\n",
              " ('13', 220),\n",
              " ('14', 217),\n",
              " ('21', 250),\n",
              " ('50', 70),\n",
              " ('45', 170)]"
            ]
          },
          "metadata": {},
          "execution_count": 33
        }
      ]
    },
    {
      "cell_type": "code",
      "source": [
        "# example of function input (x = (0,-10000,1000000,1000000) , y = ('07', 165))\n",
        "def seqOp(x,y):\n",
        "    # res = (max_key, max_val, min_key, min_val)\n",
        "    res = [0,0,0,0]\n",
        "    if x[1] > y[1]:\n",
        "        # it the current x values are bigger than the y then keep them\n",
        "        res[0] = x[0]\n",
        "        res[1] = x[1]\n",
        "    else:\n",
        "        # y is bigger, so use y as a maximum\n",
        "        res[0] = y[0]\n",
        "        res[1] = y[1]\n",
        "    if x[3] < y[1]:\n",
        "        # if the current x values are smaller than the y then keep them\n",
        "        res[2] = x[2]\n",
        "        res[3] = x[3]\n",
        "    else:\n",
        "        # y is smaller, so use y as a minimum\n",
        "        res[2] = y[0]\n",
        "        res[3] = y[1]\n",
        "    return res\n",
        "  \n",
        "# example of function input (x = ('14',217, '49',70 ) , y = ('13',220, '50',70 ))\n",
        "def combOp(x,y):\n",
        "    # res = (max_key, max_val, min_key, min_val)\n",
        "    res = [0,0,0,0]\n",
        "    if x[1] > y[1]:\n",
        "        # if the data in the x is bigger, then use x as the result\n",
        "        res[0] = x[0]\n",
        "        res[1] = x[1]\n",
        "    else:\n",
        "        res[0] = y[0]\n",
        "        res[1] = y[1]\n",
        "    if x[3] < y[3]:\n",
        "        # if the data in the x is smaller, then use x as the result\n",
        "        res[2] = x[2]\n",
        "        res[3] = x[3]\n",
        "    else:\n",
        "        res[2] = y[2]\n",
        "        res[3] = y[3]\n",
        "    return res"
      ],
      "metadata": {
        "id": "761eSbwe5wPs"
      },
      "execution_count": 39,
      "outputs": []
    },
    {
      "cell_type": "code",
      "source": [
        "# treeAggregate(zeroValue, seqOp, combOp)\n",
        "# Result = (max_key, max_val, min_key, min_val)\n",
        "\n",
        "r.treeAggregate([0,-10000,1000000,1000000], seqOp, combOp)"
      ],
      "metadata": {
        "colab": {
          "base_uri": "https://localhost:8080/"
        },
        "id": "44580lzf5wSg",
        "outputId": "875d6567-f632-42e0-c13c-80dd76f53e27"
      },
      "execution_count": 40,
      "outputs": [
        {
          "output_type": "execute_result",
          "data": {
            "text/plain": [
              "['28', 293, '56', 1]"
            ]
          },
          "metadata": {},
          "execution_count": 40
        }
      ]
    },
    {
      "cell_type": "code",
      "source": [
        ""
      ],
      "metadata": {
        "id": "eUGrBQr8YUUU"
      },
      "execution_count": null,
      "outputs": []
    }
  ]
}
